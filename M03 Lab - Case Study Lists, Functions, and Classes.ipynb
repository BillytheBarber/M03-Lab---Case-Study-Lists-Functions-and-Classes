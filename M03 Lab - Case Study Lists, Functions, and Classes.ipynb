{
 "cells": [
  {
   "cell_type": "code",
   "execution_count": 23,
   "id": "071585d7",
   "metadata": {},
   "outputs": [
    {
     "name": "stdout",
     "output_type": "stream",
     "text": [
      "What is the vehicle type automobile? car\n",
      "What is the year of this automobile? 2022\n",
      "Who is the manufacturer of this automobile? Toyota\n",
      "What is the model of this automobile? Corolla\n",
      "How many doors does this automobile have? 4\n",
      "What type of roof does this automobile have? solid or sun roof? sun roof\n",
      "Vehicle Type:  car\n",
      "Year:  2022\n",
      "Make:  Toyota\n",
      "Model:  Corolla\n",
      "Number of doors:  4\n",
      "Type of roof:  sun roof\n"
     ]
    }
   ],
   "source": [
    "# Basharat Tunio\n",
    "#SDEV 220\n",
    "#Create a vehicle class with its information provided by the user\n",
    "\n",
    "class Vehicle():\n",
    "    def __init__(self, type):\n",
    "        self.type = type\n",
    "    \n",
    "class Automobile(Vehicle):\n",
    "    def __init__(self, year, make, model, doors, roof):\n",
    "        self.year = year\n",
    "        self.make = make\n",
    "        self.model = model\n",
    "        self.doors = doors\n",
    "        self.roof = roof\n",
    "    \n",
    "    #creating a function that will ask the user for input\n",
    "    def user_input():\n",
    "        Vehicle.type = input('What is the vehicle type automobile? ')\n",
    "        Automobile.year = input('What is the year of this automobile? ')\n",
    "        Automobile.make = input('Who is the manufacturer of this automobile? ')\n",
    "        Automobile.model = input('What is the model of this automobile? ')\n",
    "        Automobile.doors = input('How many doors does this automobile have? ')\n",
    "        Automobile.roof = input('What type of roof does this automobile have? solid or sun roof? ')\n",
    "     \n",
    "    #producing the output\n",
    "    def output():\n",
    "        print('Vehicle Type: ', Vehicle.type)\n",
    "        print('Year: ', Automobile.year)\n",
    "        print('Make: ', Automobile.make)\n",
    "        print('Model: ', Automobile.model)\n",
    "        print('Number of doors: ',  Automobile.doors)\n",
    "        print('Type of roof: ', Automobile.roof)\n",
    "        \n",
    "Automobile.user_input()\n",
    "Automobile.output()"
   ]
  },
  {
   "cell_type": "code",
   "execution_count": null,
   "id": "9ad05360",
   "metadata": {},
   "outputs": [],
   "source": []
  }
 ],
 "metadata": {
  "kernelspec": {
   "display_name": "Python 3 (ipykernel)",
   "language": "python",
   "name": "python3"
  },
  "language_info": {
   "codemirror_mode": {
    "name": "ipython",
    "version": 3
   },
   "file_extension": ".py",
   "mimetype": "text/x-python",
   "name": "python",
   "nbconvert_exporter": "python",
   "pygments_lexer": "ipython3",
   "version": "3.9.13"
  }
 },
 "nbformat": 4,
 "nbformat_minor": 5
}
